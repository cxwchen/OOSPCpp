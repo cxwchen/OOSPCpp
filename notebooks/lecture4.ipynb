{
  "cells": [
    {
      "metadata": {
        "slideshow": {
          "slide_type": "slide"
        }
      },
      "id": "35dcd074",
      "cell_type": "markdown",
      "source": "# Object-oriented scientific programming with C++\n\nMatthias Möller, Jonas Thies, Cálin Georgescu, Jingya Li (Numerical Analysis, DIAM)\n\nLecture 4"
    },
    {
      "metadata": {
        "slideshow": {
          "slide_type": "slide"
        }
      },
      "id": "3a57f6c5",
      "cell_type": "markdown",
      "source": "# Overview\n\nLast lecture we started with **template meta programming**\n- Implement type-independent functionality\n    - Class templates/function templates\n    - Generic attributes being able to hold arbitrary data type\n    - Generic member function realizing the default behaviour\n- Implement specialized variants of member functions to support special behaviour, e.g., dot product for complex types\n- Instantiate class with concrete types (double, float, etc.)"
    },
    {
      "metadata": {
        "slideshow": {
          "slide_type": "skip"
        },
        "tags": []
      },
      "id": "2f3c3e9b-8ea1-4d44-97f9-8019a125d916",
      "cell_type": "markdown",
      "source": "# Overview\n\n<center><img src=\"plots/lecture4_cat.png\" style=\"width:60%\"></center>"
    },
    {
      "metadata": {
        "slideshow": {
          "slide_type": "slide"
        },
        "tags": []
      },
      "id": "8e82d027",
      "cell_type": "markdown",
      "source": "# Instantiate class with concrete types (double, float, etc.)\n\nC++ allows you to **partially specialize** class templates"
    },
    {
      "metadata": {
        "trusted": false
      },
      "id": "d2748b0d-58f7-4456-9c0f-79645cd4d71c",
      "cell_type": "code",
      "source": "template<typename S>\nstd::complex<S> Vector<std::complex<S> >::dot(const Vector<std::complex<S> > other) const \n{ \n    std::complex<S> d=0;\n    for (auto i=0; i<n; i++)\n        d += data[i]*std::conj(other.data[i]);\n    return d;\n}",
      "execution_count": null,
      "outputs": []
    },
    {
      "metadata": {
        "tags": []
      },
      "id": "23c086ba-74dc-494f-81ed-b4ff5d6f779d",
      "cell_type": "markdown",
      "source": "Note that this code will not compile. We will see why and learn remedies. Welcome to where template magic begins!"
    },
    {
      "metadata": {
        "slideshow": {
          "slide_type": "slide"
        }
      },
      "id": "9c8204d4",
      "cell_type": "markdown",
      "source": "# Overview\n\nToday, **advanced template meta programming**\n- Full template specialization of complete classes\n- Full template specialization of individual member functions\n- Partial template specialization of class templates\n- Type traits\n- SFINAE paradigm"
    },
    {
      "metadata": {
        "slideshow": {
          "slide_type": "slide"
        }
      },
      "id": "390afba6",
      "cell_type": "markdown",
      "source": "# Template specialization\n\nType-independent **default implementation**\nThis implementation is used whenever there is no (partial) specialization of the `struct Demo` and/or its functions"
    },
    {
      "metadata": {
        "tags": [],
        "trusted": false
      },
      "id": "7e180423",
      "cell_type": "code",
      "source": "#include <iostream>\n#include <complex>\n\ntemplate<typename T, typename I>\nstruct Demo\n{\n    static void info() {\n        std::cout << \"Generic info\" << \"\\n\";\n    }\n    \n    static void test() {\n        std::cout << \"Generic test\" << \"\\n\";\n    }\n};\n\nDemo<int, double>::info();               // Outputs: Generic info\nDemo<std::complex<float>, char>::test(); // Outputs: Generic test",
      "execution_count": null,
      "outputs": []
    },
    {
      "metadata": {},
      "id": "5399e025-7451-42bb-bdfa-8481218425bf",
      "cell_type": "markdown",
      "source": "Go here for visualization: https://www.online-ide.com/GWnUgMLJ3N"
    },
    {
      "metadata": {
        "slideshow": {
          "slide_type": "subslide"
        }
      },
      "id": "c300db4a",
      "cell_type": "markdown",
      "source": "# Class template specialization\n\n**Task:** implement a template specialization of the entire\n`struct Demo` for `T=float` and `I=long`\n\nNote that template specialization does not imply class inheritance; that is, all attributes/functions that you want to have in a specialized class have to be implemented\n\nThink of class specialization as implementing a new independent `struct Demo<float, long>` thatjusthasthe same name as the generic `struct Demo<T,I>`"
    },
    {
      "metadata": {
        "slideshow": {
          "slide_type": "subslide"
        }
      },
      "id": "ad514241",
      "cell_type": "markdown",
      "source": "**Fully specialized** implementation of the entire **structure**"
    },
    {
      "metadata": {
        "trusted": false
      },
      "id": "901443ec-9210-416c-934e-1d0d2e885be2",
      "cell_type": "code",
      "source": "template<>\nstruct Demo<float, long> \n{\n    static void info() {\n        std::cout << \"Fully specialized info\" << std::endl;\n    }\n    \n    static void test() {\n        std::cout << \"Fully specialized test\" << std::endl;\n    }\n};\n\nDemo<float, long>::info(); // Outputs: Fully specialized info\nDemo<float, long>::test(); // Outputs: Fully specialized test",
      "execution_count": null,
      "outputs": []
    },
    {
      "metadata": {
        "slideshow": {
          "slide_type": "subslide"
        }
      },
      "id": "aab2b26c",
      "cell_type": "markdown",
      "source": "**Fully specialized** implementation of the entire **structure**\nbut without a member function test()\n\nNote: run here https://www.online-ide.com/1xpEOkqRAr"
    },
    {
      "metadata": {
        "tags": [],
        "trusted": false
      },
      "id": "bccf3d70",
      "cell_type": "code",
      "source": "template<typename T, typename I>\nstruct Demo\n{\n    static void info() {\n        std::cout << \"Generic info\" << std::endl;\n    }\n    \n    static void test() {\n        std::cout << \"Generic test\" << std::endl;\n    }\n};\n\n// Full specialization of the Demo class for float and long\ntemplate<>\nstruct Demo<float, long> \n{\n    static void info() {\n        std::cout << \"Fully specialized info\" << std::endl;\n    }\n    \n    // Optionally, provide a specialized version of test() if needed\n    // static void test() {\n    //     std::cout << \"Fully specialized test\" << std::endl;\n    // }\n};\n\nDemo<float, long>::info(); // Calls the specialized info\n//Demo<float, long>::test(); // Calls the specialized test (if defined)",
      "execution_count": 2,
      "outputs": []
    },
    {
      "metadata": {
        "slideshow": {
          "slide_type": "slide"
        }
      },
      "id": "6cb3b556",
      "cell_type": "markdown",
      "source": "# Class-function template specialization\n\n**Task:** implement a specialization of the member function `info()` for `T=float` and `I=long`\n\nSince we only implement a specialization for the individual function `info()`, the implementation of function `test()` from the non-specialized `struct Demo` remains available\n\nThink of member function specialization as superseding individual member functions by specialized variants"
    },
    {
      "metadata": {
        "slideshow": {
          "slide_type": "subslide"
        }
      },
      "id": "40b21ae7",
      "cell_type": "markdown",
      "source": "**Fully specialized** implementation of **function** `info()`\n```C++\ntemplate<>\nvoid Demo<double, long>::info() {\n    std::cout << \"Fully specialised info\" << std::endl; } \n```\nThis implementation provides the specialization of function\n`info()` and the generic implementation of function `test()`\n```C++\nDemo<double,long>::info(); // Calls the class-function specialization\nDemo<double,long>::test(); // Calls the generic implementation\n```"
    },
    {
      "metadata": {
        "slideshow": {
          "slide_type": "slide"
        }
      },
      "id": "6948a035",
      "cell_type": "markdown",
      "source": "# Class template partial specialization\n\n**Task:** implement a specialization of the entire `struct Demo` for `T=float` and arbitrary template parameter value `I`"
    },
    {
      "metadata": {
        "slideshow": {
          "slide_type": "subslide"
        }
      },
      "id": "b26bf024",
      "cell_type": "markdown",
      "source": "**Partially specialized** implementation of the **structure**\n\nNote: click here https://www.online-ide.com/bpLsXnCKG8"
    },
    {
      "metadata": {
        "tags": [],
        "trusted": false
      },
      "id": "db707020",
      "cell_type": "code",
      "source": "template<typename T, typename I>\nstruct Demo \n{\n    static void info() {\n        std::cout << \"Generic info\" << std::endl;\n    }\n    \n    static void test() {\n        std::cout << \"Generic test\" << std::endl;\n    }\n};\n\n// Partial specialization of the Demo class for the first parameter being double\ntemplate<typename I>\nstruct Demo<double, I> \n{\n    static void info() {\n        std::cout << \"Partially specialized info\" << std::endl;\n    }\n    \n    static void test() {\n        std::cout << \"Partially specialized test\" << std::endl;\n    }\n};\n\nDemo<double, long>::info(); // Outputs: Partially specialized info\nDemo<double, int>::test();  // Outputs: Partially specialized test\nDemo<float, int>::info();   // Outputs: Generic info",
      "execution_count": 27,
      "outputs": []
    },
    {
      "metadata": {
        "slideshow": {
          "slide_type": "slide"
        },
        "tags": []
      },
      "id": "be640e26",
      "cell_type": "markdown",
      "source": "# Class-function template partial specialization\n\n**Task:** implement a specialization of member function `info()` for `T=float` and arbitrary template parameter value `I`\n\nPartial function template specialization is not **possible in C++**\n```C++\ntemplate<typename I>\nvoid Demo<float, I>::info() {...}\n```\n\nStay tuned, there are tricks to solve this problem"
    },
    {
      "metadata": {
        "slideshow": {
          "slide_type": "slide"
        }
      },
      "id": "0d8f79de",
      "cell_type": "markdown",
      "source": "# Summary template specialization\n\nGiven a templated class with member functions\n- Entire class can be fully or partially specialized\n- Individual member functions can be fully specialized\n- Individual member functions **cannot** be partially specialized\n\nFull/partial class specialization is like implementing a new individual class that can be accessed by the same name\n\nFull function specialization is like superseding individual member functions by specialized variants"
    },
    {
      "metadata": {
        "slideshow": {
          "slide_type": "slide"
        }
      },
      "id": "3daf7ddd",
      "cell_type": "markdown",
      "source": "# Quiz\n\nRemember the specialized dot product for complex-valued\nvectors from the previous session, will this work?"
    },
    {
      "metadata": {
        "trusted": false
      },
      "id": "22bfa419-9a17-45c2-b074-e3130253ff24",
      "cell_type": "code",
      "source": "template<typename T> class Vector {\n    T dot(const Vector<T>& other) const {...}\n};\n\ntemplate<typename S> std::complex<S> \nVector<std::complex<S> >::dot(const Vector<std::complex<S> > other) const \n{\n    std::complex<S> d=0;\n    for (auto i=0; i<n; i++)\n        d += data[i]*std::conj(other.data[i]);\n    return d;\n} ",
      "execution_count": null,
      "outputs": []
    },
    {
      "metadata": {
        "slideshow": {
          "slide_type": "slide"
        }
      },
      "id": "1e5b1bf8",
      "cell_type": "markdown",
      "source": "# SFINAE paradigm\n\nC++ allows us to write **overloaded functions with different**\ninput parameter lists, e.g.,\n```C++\nstatic void info() {...}\nstatic void info(int i) {...}\n```\nIt is, however, **not** allowed to overload functions that only differ in the type of their return parameter, e.g.,\n```C++\nstatic void info() {...}\nstatic int  info() {...}\n```"
    },
    {
      "metadata": {
        "slideshow": {
          "slide_type": "subslide"
        }
      },
      "id": "f22ba5b8",
      "cell_type": "markdown",
      "source": "C++11 standard states:\n\n<i>If a substitution results in an invalid type or expression, type deduction fails. An invalid type or expression is one that would be ill-formed if written using the substituted arguments. Only invalid types and expressions in the immediate context of the function type and its template parameter types can result in a deduction failure.</i>\n\n**SFINAE:** <span style=color:red;>S</span>ubstitution <span style=color:red;>F</span>ailure <span style=color:red;>I</span>s <span style=color:red;>N</span>ot <span style=color:red;>A</span>n <span style=color:red;>E</span>rror"
    },
    {
      "metadata": {
        "slideshow": {
          "slide_type": "subslide"
        }
      },
      "id": "e3dee20b",
      "cell_type": "markdown",
      "source": "C++11 standard rephrased for our purpose:\n\n<i>If a template substitution leads to invalid code then the compiler must not throw an error but look for another candidate (i.e. the second templated implementation of our function); <b>an error is just thrown if no other candidate can be found</b> so that the function call remains unresolved</i>"
    },
    {
      "metadata": {
        "slideshow": {
          "slide_type": "subslide"
        }
      },
      "id": "be2aa4cf",
      "cell_type": "markdown",
      "source": "**SFINAE:** <span style=color:red;>S</span>ubstitution <span style=color:red;>F</span>ailure <span style=color:red;>I</span>s <span style=color:red;>N</span>ot <span style=color:red;>A</span>n <span style=color:red;>E</span>rror\n\n- Write multiple implementations of the same function with\n    - the **same name** and\n    - the **same input parameters**\n- Ensure – via template meta programming – that **exactly one** at a time results in **valid code** upon substitution of the template parameters and **all other** candidates yield **invalid expressions**"
    },
    {
      "metadata": {
        "slideshow": {
          "slide_type": "slide"
        }
      },
      "id": "d7007a07",
      "cell_type": "markdown",
      "source": "# Intermezzo: Traits\n\nConsider the `is_double` **function** which returns `true`/`false` depending on the type of the parameter passed via explicit template specialization"
    },
    {
      "metadata": {
        "tags": [],
        "trusted": false
      },
      "id": "a115b21c",
      "cell_type": "code",
      "source": "#include <iostream>\n#include <sstream>\n\ntemplate<typename T>\nbool is_double(T a) { return false; }\n\ntemplate<>\nbool is_double<double>(double a) { return true; }\n\nstd::cout << std::boolalpha; // Print 'true' or 'false' for bool values\n\nstd::cout << \"is_int(42): \"   << is_double(42)   << std::endl;   // Prints 'true'\nstd::cout << \"is_int(42.0): \" << is_double(42.0) << std::endl;   // Prints 'true'\nstd::cout << \"is_int('A'): \"  << is_double('A')  << std::endl;   // Prints 'false'",
      "execution_count": 26,
      "outputs": []
    },
    {
      "metadata": {},
      "id": "8bb168e2-ff9a-46cb-8a9e-9259eff58749",
      "cell_type": "markdown",
      "source": "NOTE: Go to this link to run https://www.online-ide.com/wkmgjVG8yH"
    },
    {
      "metadata": {
        "slideshow": {
          "slide_type": "subslide"
        }
      },
      "id": "709a9bef",
      "cell_type": "markdown",
      "source": "Consider the templated `is_double` **structure** with specialization"
    },
    {
      "metadata": {
        "tags": [],
        "trusted": false
      },
      "id": "f9e81705",
      "cell_type": "code",
      "source": "#include <iostream>\n\ntemplate<typename T>\nstruct is_double\n{\n    const static bool value = false;\n};\n\ntemplate<>\nstruct is_double<double>\n{\n    const static bool value = true;\n};\n\nstd::cout << \"is_double<int>::value: \"    << is_double<int>::value    << std::endl;   // Prints 'false'\nstd::cout << \"is_double<double>::value: \" << is_double<double>::value << std::endl;   // Prints 'true'",
      "execution_count": 9,
      "outputs": []
    },
    {
      "metadata": {},
      "id": "63fc9020-0bea-41e2-a065-6aa20c973f26",
      "cell_type": "markdown",
      "source": "NOTE: Go to this link to run https://www.online-ide.com/0RIfmNvHFK"
    },
    {
      "metadata": {
        "slideshow": {
          "slide_type": "subslide"
        }
      },
      "id": "3577d66d",
      "cell_type": "markdown",
      "source": "Detect if a given type is `double` without passing a parameter\n```C++\nstd::cout << is_double<int>::value << std::endl;\nstd::cout << is_double<double>::value << std::endl;\n```\nThe `is_double` **type trait** can be used in templated functions\n```C++\ntemplate<typename T>\nvoid test(T a)\n{\n  if (is_double<T>::value)\n    std::cout << \"Double :\" << a << std::endl;\n  else\n    std::cout << \"Non-Double :\" << a << std::endl;\n}\n```"
    },
    {
      "metadata": {
        "slideshow": {
          "slide_type": "subslide"
        }
      },
      "id": "5ab6d885",
      "cell_type": "markdown",
      "source": "The `is_double` **type trait** is evaluated at compile time in contrast to the `is_double()` **function** which (theoretically) might trigger an extra function call at run time (slow!)\n\nA smart compiler will eliminate the if-else clause\n\n```C++\nvoid test(double a)\n  {\n    if (is_double<T>::value)\n        std::cout << \"Double :\" << a << std::endl;\n    else\n        std::cout << \"Non-Double :\" << a << std::endl;\n}\n```"
    },
    {
      "metadata": {
        "slideshow": {
          "slide_type": "subslide"
        }
      },
      "id": "7e5e9d04",
      "cell_type": "markdown",
      "source": "C++ brings many **type traits** via `#include <type_traits>`\n<table border=\"1\">\n  <tr>\n    <th>Function</th>\n    <th>Description</th>\n  </tr>\n  <tr>\n    <td>is_class&lt;T&gt;</td>\n    <td>Type T is of class type</td>\n  </tr>\n  <tr>\n    <td>is_const&lt;T&gt;</td>\n    <td>Type T has const qualifier</td>\n  </tr>\n  <tr>\n    <td>is_floating_point&lt;T&gt;</td>\n    <td>Type T is floating point (float, double, long)</td>\n  </tr>\n  <tr>\n    <td>is_fundamental&lt;T&gt;</td>\n    <td>Type T is of fundamental type (int, double, ...)</td>\n  </tr>\n  <tr>\n    <td>is_integral&lt;T&gt;</td>\n    <td>Type T is of integral type (int, long int, ...)</td>\n  </tr>\n  <tr>\n    <td>is_pointer&lt;T&gt;</td>\n    <td>Type T is of pointer type</td>\n  </tr>\n</table>\n\nFor a complete list of standard type traits look at:http://www.cplusplus.com/reference/type_traits/"
    },
    {
      "metadata": {
        "slideshow": {
          "slide_type": "subslide"
        }
      },
      "id": "9c0b9ee8",
      "cell_type": "markdown",
      "source": "The aforementioned C++ **standard type traits** provide\n- Member constants:\n    `value (=true/false)`\n- Member types:\n    `value_type (=bool)` and `type (=true_type/false_type)`\n\nMember constants/types can be directly accessed\n```C++\nis_fundamental<int>::value // true\nis_fundamental<int>::value_type // bool    \n```"
    },
    {
      "metadata": {
        "slideshow": {
          "slide_type": "subslide"
        }
      },
      "id": "4fccc3ef",
      "cell_type": "markdown",
      "source": "# Intermezzo: Types Traits\n\nC++ provides type traits that **operate on the type**"
    },
    {
      "metadata": {
        "slideshow": {
          "slide_type": "subslide"
        },
        "tags": [],
        "trusted": false
      },
      "id": "ad1c76b2",
      "cell_type": "code",
      "source": "#include <type_traits>\n#include <typeinfo>\n#include <iostream>\n\ntypedef std::add_const<int>::type A;\ntypedef std::add_const<const int>::type B;\ntypedef std::add_pointer<int>::type C;\ntypedef std::add_pointer<const int>::type D;\ntypedef std::add_pointer<int&>::type E;\ntypedef std::add_pointer<int*>::type F;\ntypedef std::add_pointer<int(int)>::type G;\n\nstd::cout << \"Type A: \" << typeid(A).name() << \" (expected: const int)\"   << std::endl;\nstd::cout << \"Type B: \" << typeid(B).name() << \" (expected: const int)\"   << std::endl;\nstd::cout << \"Type C: \" << typeid(C).name() << \" (expected: int*)\"        << std::endl;\nstd::cout << \"Type D: \" << typeid(D).name() << \" (expected: const int*)\"  << std::endl;\nstd::cout << \"Type E: \" << typeid(E).name() << \" (expected: int*)\"        << std::endl;\nstd::cout << \"Type F: \" << typeid(F).name() << \" (expected: int**)\"       << std::endl;\nstd::cout << \"Type G: \" << typeid(G).name() << \" (expected: int(*)(int))\" << std::endl;",
      "execution_count": 17,
      "outputs": [
        {
          "name": "stdout",
          "output_type": "stream",
          "text": "Type A: i (expected: const int)\nType B: i (expected: const int)\nType C: Pi (expected: int*)\nType D: PKi (expected: const int*)\nType E: Pi (expected: int*)\nType F: PPi (expected: int**)\nType G: PFiiE (expected: int(*)(int))\n"
        },
        {
          "execution_count": 17,
          "output_type": "execute_result",
          "data": {
            "text/plain": "@0x7efd5e99dde0"
          },
          "metadata": {}
        }
      ]
    },
    {
      "metadata": {
        "slideshow": {
          "slide_type": "subslide"
        }
      },
      "id": "30ccb64c",
      "cell_type": "markdown",
      "source": "C++ provides type traits that **operate on the type**\n\n```C++\ntypedef remove_const<      int> A;    // int (unchanged)\ntypedef remove_const<const int> B;    // int\n\ntypedef remove_pointer<int  > C;      // int\ntypedef remove_pointer<int* > D;      // int\ntypedef remove_pointer<int**> E;      // int*\ntypedef remove_pointer<const int > F; // const int\ntypedef remove_pointer<const int*> G; // const int\ntypedef remove_pointer<int* const> H; // int\n```"
    },
    {
      "metadata": {
        "slideshow": {
          "slide_type": "subslide"
        }
      },
      "id": "1855cf1b",
      "cell_type": "markdown",
      "source": "C++ provides type traits that **operate on two types**\n\nCheck if two types are **exactly** the same (including qualifiers)\n\n```C++\nbool is_same<A, B>::value\n\nbool is_same<int,       int>::value // true\nbool is_same<int, const int>::value // false\nbool is_same<remove_const<      int>,\n             remove_const<const int> >::value // true\n```"
    },
    {
      "metadata": {
        "slideshow": {
          "slide_type": "skip"
        },
        "tags": [],
        "trusted": false
      },
      "id": "a9ec0cfb",
      "cell_type": "code",
      "source": "#include <type_traits>\n#include <iostream>\n\ntypedef std::remove_const<      int>::type A; // int\ntypedef std::remove_const<const int>::type B; // int\n\nstd::cout << std::boolalpha; // Print 'true' or 'false' for bool values\n\nstd::cout << \"is_same<A,           B>::value: \" << std::is_same<A,           B>::value << '\\n'; // true\nstd::cout << \"is_same<int,       int>::value: \" << std::is_same<int,       int>::value << '\\n'; // true\nstd::cout << \"is_same<int, const int>::value: \" << std::is_same<int, const int>::value << '\\n'; // false\nstd::cout << \"is_same<remove_const<int>, remove_const<const int>>::value: \" \n          << std::is_same<std::remove_const<int>::type, std::remove_const<const int>::type>::value << '\\n'; // true",
      "execution_count": 25,
      "outputs": [
        {
          "name": "stdout",
          "output_type": "stream",
          "text": "is_same<A, B>::value: true\nis_same<int, int>::value: true\nis_same<int, const int>::value: false\nis_same<remove_const<int>, remove_const<const int>>::value: true\n"
        },
        {
          "execution_count": 25,
          "output_type": "execute_result",
          "data": {
            "text/plain": "@0x7efd5e99dde0"
          },
          "metadata": {}
        }
      ]
    },
    {
      "metadata": {
        "slideshow": {
          "slide_type": "subslide"
        }
      },
      "id": "15351b18",
      "cell_type": "markdown",
      "source": "C++ provides type traits that **operate on two types**\n\nCheck if type B is derived from type A"
    },
    {
      "metadata": {
        "tags": [],
        "trusted": false
      },
      "id": "0328f4f4",
      "cell_type": "code",
      "source": "#include <type_traits>\n#include <iostream>\n\nstruct A {};\nstruct B : A {};\n\nstd::cout << std::boolalpha; // Print 'true' or 'false' for bool values\n\nstd::cout << \"is_base_of<A, B>::value: \" << std::is_base_of<A, B>::value << '\\n'; // true\nstd::cout << \"is_base_of<A, A>::value: \" << std::is_base_of<A, A>::value << '\\n'; // true\nstd::cout << \"is_base_of<B, A>::value: \" << std::is_base_of<B, A>::value << '\\n'; // false\nstd::cout << \"is_base_of<B, B>::value: \" << std::is_base_of<B, B>::value << '\\n'; // true",
      "execution_count": 19,
      "outputs": [
        {
          "name": "stdout",
          "output_type": "stream",
          "text": "is_base_of<A, B>::value: true\nis_base_of<A, A>::value: true\nis_base_of<B, A>::value: false\nis_base_of<B, B>::value: true\n"
        },
        {
          "execution_count": 19,
          "output_type": "execute_result",
          "data": {
            "text/plain": "@0x7efd5e99dde0"
          },
          "metadata": {}
        }
      ]
    },
    {
      "metadata": {
        "slideshow": {
          "slide_type": "subslide"
        }
      },
      "id": "b821d37a",
      "cell_type": "markdown",
      "source": "C++ provides type trait to **enable types conditionally**\n\nIf `is_odd` is called with an **integral type** (e.g., `int`) the compiler\nexpands the following templated function as follows\n\n```C++\nbool is_odd(int i) { return bool(i%2); }\n```\nNOTE: Go to this link to run https://www.online-ide.com/R5hs4oQSAD"
    },
    {
      "metadata": {
        "tags": [],
        "trusted": false
      },
      "id": "a07ea5df",
      "cell_type": "code",
      "source": "#include <iostream>\n#include <type_traits>\n\ntemplate<typename T>\ntypename std::enable_if<std::is_integral<T>::value, bool>::type\nis_odd(T i) {\n    return bool(i % 2);\n}\n\n\nint i = 2;\nstd::cout << \"i is odd: \" << is_odd(i) << std::endl;",
      "execution_count": null,
      "outputs": []
    },
    {
      "metadata": {
        "slideshow": {
          "slide_type": "subslide"
        }
      },
      "id": "211c8f0f",
      "cell_type": "markdown",
      "source": "C++ provides type trait to **enable types conditionally**\n\n```C++\ntemplate<typename T>\ntypename std::enable_if<std::is_integral<T>::value, bool>::type\nis_odd(T i) { \n    return bool(i%2); \n}\n\nfloat i=2;\nstd::cout << \"i is odd :\" << is_odd(i) << std::endl;\n```\n\nIf `is_odd` is called with a **non-integral type** (e.g., `float`) the compiler expands the above templated function as follows\n\n```C++\nis_odd(float i) { return bool(i%2); } // compiler error\n```"
    },
    {
      "metadata": {
        "slideshow": {
          "slide_type": "slide"
        }
      },
      "id": "f8522388",
      "cell_type": "markdown",
      "source": "# SFINAE revisited\n\n**SFINAE:** <span style=color:red;>S</span>ubstitution <span style=color:red;>F</span>ailure <span style=color:red;>I</span>s <span style=color:red;>N</span>ot <span style=color:red;>A</span>n <span style=color:red;>E</span>rror\n\n- Write multiple implementations of the same function with\n    - the **same name** and\n    - the **same input parameters**\n- Ensure using the `enable_if` **type trait** that exactly one at a time results in **valid code** upon substitution of template parameters and **all other** candidates yield **invalid expressions**"
    },
    {
      "metadata": {
        "slideshow": {
          "slide_type": "subslide"
        }
      },
      "id": "719e97ce",
      "cell_type": "markdown",
      "source": "Consider the `info()` member function\n```C++\ntemplate<typename T, typename I> \nstruct Demo {\n    static void info() { ... };\n};\n```\n\nEnable return type `void` only in case `I=int` and let `info()` have\nno return type (=invalid code) if I is of any other type\n```C++\nbool v = std::is_same<I, int>::value // either true or false\nstd::enable_if<v, void>::type // either void or empty    \n```"
    },
    {
      "metadata": {
        "slideshow": {
          "slide_type": "slide"
        },
        "tags": []
      },
      "id": "f60bae8f",
      "cell_type": "markdown",
      "source": "# SFINAE revisited\n\nFirst attempt of partially specialized `info()` member function\n\n```C++\ntemplate<typename T, typename I>\nstruct Demo \n{\n    // partial specialization for I=int\n    typename std::enable_if< std::is_same<I, int>::value, void>::type\n    static info() { ... };\n\n    // partial specialization for I!=int\n    typename std::enable_if<!std::is_same<I, int>::value, void>::type\n    static info() { ... };\n};\n```\n\nThis code will **not compile**; we need to introduce an extra function template parameter for the `info()` function"
    },
    {
      "metadata": {
        "slideshow": {
          "slide_type": "subslide"
        }
      },
      "id": "10df3932",
      "cell_type": "markdown",
      "source": "Partially specialized `info()` member function (now working!)\n```C++\ntemplate<typename T, typename I>\nstruct Demo \n{\n    template<typename J=I>\n    typename std::enable_if< std::is_same<J, int>::value, void>::type\n    static info() { ... };\n    \n    template<typename J=I>\n    typename std::enable_if<!std::is_same<J, int>::value, void>::type\n    static info() { ... };\n};\n```"
    },
    {
      "metadata": {
        "slideshow": {
          "slide_type": "subslide"
        }
      },
      "id": "32dcd7f4",
      "cell_type": "markdown",
      "source": "In words...\n- Introduce an **extra function template parameter** `J` that, by\ndefault, takes the value of the class template parameter `I`\n```C++\ntemplate<typename J=I>\n```\n- Make type traits depend on extra template parameter `J`\n```C++\ntypename std::enable_if< std::is_same<J, int>::value, void>::type\n```\n\n- Make sure that exactly one member function leads to valid code\n```C++\ntypename std::enable_if<!std::is_same<J, int>::value, void>::type\n```"
    },
    {
      "metadata": {
        "slideshow": {
          "slide_type": "slide"
        },
        "tags": []
      },
      "id": "1aff9496",
      "cell_type": "markdown",
      "source": "# Dot product revisited\n\nLet us reconsider the dot product for complex-valued vectors\n\nUse **SFINAE paradigm** to realise alternative implementations\nof the dot product for real- and complex-valued types\n\nStrategy:\n- Write **type trait** `is_complex<T>` that has `value=true`if `T` is of type `std::complex<U>` and `value=false` otherwise\n- Use **type trait** `std::enable_if<...>` to distinguish between real- and complex-valued implementation of the dot product"
    },
    {
      "metadata": {
        "slideshow": {
          "slide_type": "slide"
        }
      },
      "id": "ed93f696",
      "cell_type": "markdown",
      "source": "# Type trait `is_complex`\n\nFirst implementation of type trait `is_complex` (will suffice for\nour purpose but is not really in line with standard traits)\n\n```C++\ntemplate<typename T>\nstruct is_complex\n    { static const bool value = false; };\n\ntemplate<>\nstruct is_complex<std::complex<float> > \n    { static const bool value = true; };\n\ntemplate<>\nstruct is_complex<std::complex<double> > \n    { static const bool value = true; };\n```"
    },
    {
      "metadata": {
        "slideshow": {
          "slide_type": "subslide"
        }
      },
      "id": "18f44fd1",
      "cell_type": "markdown",
      "source": "C++ standard way to implement type traits is by deriving\n`is_complex` from structure `std::integral_constant<T, value>`\n\n```C++\ntemplate<typename T>\nstruct is_complex\n: std::integral_constant<bool,\n    std::is_same<T, std::complex<float> >::value || \n    std::is_same<T, std::complex<double> >::value > {};\n```\nLogical combination (`&&`, `||`) of all `std::complex<S>` types that should be supported by the `is_complex` type trait"
    },
    {
      "metadata": {
        "slideshow": {
          "slide_type": "subslide"
        }
      },
      "id": "e54332b8",
      "cell_type": "markdown",
      "source": "Implementation of dot product for **complex-valued types** \n```C++\ntemplate<typename T>\nclass Vector {\n...\n    template<typename U=T>\n    typename std::enable_if<is_complex<U>::value, U>::type \n    dot(const Vector<T>& other) const {\n      T d=0;\n      for (auto i=0; i<n; i++)\n        d += data[i]*std::conj(other.data[i]); return d;\n    } \n};\n```"
    },
    {
      "metadata": {
        "slideshow": {
          "slide_type": "subslide"
        }
      },
      "id": "10b8d3b6",
      "cell_type": "markdown",
      "source": "Implementation of dot-product for **real-valued types**\n```C++\ntemplate<typename T>\nclass Vector {\n...\n    template<typename U=T>\n    typename std::enable_if<!is_complex<U>::value, U>::type \n    dot(const Vector<T>& other) const {\n      T d=0;\n      for (auto i=0; i<n; i++)\n        d += data[i]*other.data[i];\n      return d;\n    } \n};\n```"
    },
    {
      "metadata": {
        "slideshow": {
          "slide_type": "slide"
        }
      },
      "id": "7721baf0",
      "cell_type": "markdown",
      "source": "# Summary SFINAE paradigm\n\nGeneral approach to circumvent the limitations of C++ to not allow **partial specialization of member function templates**\n- Use `std::enable_if` and `std::is_xyz` or self-written type trait to switch between different implementations of a function\n\nDefault template arguments for function templates\n(`template<typename J=I>`)are a new feature in C++11\n\nFor a complete list of standard type traits look at: http://www.cplusplus.com/reference/type_traits/"
    },
    {
      "metadata": {
        "slideshow": {
          "slide_type": "slide"
        }
      },
      "id": "abfa4db2",
      "cell_type": "markdown",
      "source": "# SFINAE Quiz\n\nWhat does this code do?\n```c++\nstruct A {};\nstruct B : A {};\nstruct C {};\n\ntemplate<typename T>\ntypename auto get_base_type(T t) {\n  typename std::conditional<std::is_base_of<A,T>::value, A, T>::type ReturnType;\n  return ReturnType(t);\n}\n```"
    },
    {
      "metadata": {
        "slideshow": {
          "slide_type": "subslide"
        }
      },
      "id": "3eeb6b59",
      "cell_type": "markdown",
      "source": "See the `get_base_type` function in action\n```C++\nA a; B b; C c;\ntypeid(a).name() // -> 1A\ntypeid(b).name() // -> 1B\ntypeid(c).name() // -> 1C\n\ntypeid(get_base_type(a)).name() // -> 1A\ntypeid(get_base_type(b)).name() // -> 1A\ntypeid(get_base_type(c)).name() // -> 1C\n```"
    },
    {
      "metadata": {
        "slideshow": {
          "slide_type": "slide"
        }
      },
      "id": "423c1730",
      "cell_type": "markdown",
      "source": "# Final word on SFINAE\n\nRecall that we started the SFINAE-journey since we needed partial specialization of the dot-product member function\n\nIt is also possible to **specialize the conj-function** instead\n\nHow would you implement the function `std::conj(...)`?\n\n- What return type should we expect for real-valued data?\n- What return type should we expect for complex-valued data?"
    },
    {
      "metadata": {
        "slideshow": {
          "slide_type": "subslide"
        }
      },
      "id": "cac5b03e",
      "cell_type": "markdown",
      "source": "A possible implementation of the function `std::conj(...)` that uses the self-written `is_complex` type trait\n```C++\ntemplate<typename T>\ntypename std::enable_if<is_complex<T>::value, T>::type static conj(T t)\n{ return T(t.real(), -t.imag()); }\n\ntemplate<typename T>\ntypename std::enable_if<!is_complex<T>::value, T>::type static conj(T t)\n{ return T(t); }\n```"
    }
  ],
  "metadata": {
    "celltoolbar": "Slideshow",
    "kernelspec": {
      "name": "xcpp17",
      "display_name": "C++17",
      "language": "C++17"
    },
    "language_info": {
      "codemirror_mode": "text/x-c++src",
      "file_extension": ".cpp",
      "mimetype": "text/x-c++src",
      "name": "c++",
      "version": "17"
    },
    "rise": {
      "autolaunch": true,
      "enable_chalkboard": true
    }
  },
  "nbformat": 4,
  "nbformat_minor": 5
}
