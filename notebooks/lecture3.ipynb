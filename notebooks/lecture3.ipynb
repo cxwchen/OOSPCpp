{
  "cells": [
    {
      "metadata": {
        "tags": [],
        "slideshow": {
          "slide_type": "skip"
        },
        "trusted": false
      },
      "id": "092fcb22",
      "cell_type": "code",
      "source": "// Please run this cell before the lecture\n\n#include <iostream>\n#include <stdexcept>",
      "execution_count": 1,
      "outputs": []
    },
    {
      "metadata": {
        "slideshow": {
          "slide_type": "slide"
        }
      },
      "id": "d640841f",
      "cell_type": "markdown",
      "source": "# Object-oriented scientific programming with C++\n\nMatthias Möller, Jonas Thies, Cálin Georgescu, Jingya Li (Numerical Analysis, DIAM)\n\nLecture 3"
    },
    {
      "metadata": {
        "slideshow": {
          "slide_type": "slide"
        }
      },
      "id": "c9ffa03c",
      "cell_type": "markdown",
      "source": "# Overview\n\nDuring last several lectures, we learned __polymorphism__, that is, inheritance of one class from another class\n\n- Implementation of common functionality in **base class** (possibly realised as **abstract class** that cannot even be instantiated)\n- Derivation of specialised class(es) from the base class that\n    - implement the missing functionality (**pure virtual functions**)\n    - override generic functionality by specialised variants (**virtual functions**)\n    - reuse all other functionality from the base class"
    },
    {
      "metadata": {
        "slideshow": {
          "slide_type": "subslide"
        }
      },
      "id": "9b0cdb3b",
      "cell_type": "markdown",
      "source": "# Overview\n\nToday, a more careful view on polymorphism\n- **Static polymorphism**: static binding/method overloading\n- **Dynamic polymorphism**: dynamic binding/method overriding\nAuto functionality of C++11/14/17.\n\n**Template meta programming**\n- A powerful variant of static polymorphism"
    },
    {
      "metadata": {
        "slideshow": {
          "slide_type": "slide"
        }
      },
      "id": "8f8bf584",
      "cell_type": "markdown",
      "source": "# Quiz: Guess what happens "
    },
    {
      "metadata": {
        "tags": [],
        "trusted": false
      },
      "id": "e18b2239",
      "cell_type": "code",
      "source": "struct Base {\n  virtual void hello() const = 0;\n  virtual ~Base() {} // virtual destructor for proper cleanup\n};\n\nstruct Derived : public Base {\n  void hello() const override // Correct function name to override the base class method\n  {\n    std::cout << \"Hallo\\n\";\n  }\n};",
      "execution_count": 2,
      "outputs": []
    },
    {
      "metadata": {
        "slideshow": {
          "slide_type": "subslide"
        }
      },
      "id": "74a6bd57",
      "cell_type": "markdown",
      "source": "# Quiz: Guess what happens\n\nRun the main function to verify your guess"
    },
    {
      "metadata": {
        "tags": [],
        "trusted": false
      },
      "id": "cec959c3",
      "cell_type": "code",
      "source": "Derived d; // Create an instance of Derived\nBase* ptr = &d; // Pointer to Base type, pointing to Derived instance\n\nptr->hello(); // Virtual dispatch ensures Derived::hello() is called",
      "execution_count": 3,
      "outputs": [
        {
          "name": "stdout",
          "text": "Hallo\n",
          "output_type": "stream"
        }
      ]
    },
    {
      "metadata": {
        "slideshow": {
          "slide_type": "subslide"
        }
      },
      "id": "15ce23b1",
      "cell_type": "markdown",
      "source": "# Discussion\n\nIs there another way to call the function? Think about what we have learned in the past two weeks.\n\n**HINT:** the above example called the function by using a pointer, what we have learned at the same time with pointer?"
    },
    {
      "metadata": {
        "slideshow": {
          "slide_type": "subslide"
        }
      },
      "id": "a7572a57",
      "cell_type": "markdown",
      "source": "# Discussion\n\nIs there another way to call the function? Think about what we have learned in the past two weeks."
    },
    {
      "metadata": {
        "tags": [],
        "trusted": false
      },
      "id": "a85fe520",
      "cell_type": "code",
      "source": "Derived d;     // Create an instance of Derived\nBase& ref = d; // Reference to Base type, referring to Derived instance\n\nref.hello();",
      "execution_count": 4,
      "outputs": [
        {
          "name": "stdout",
          "text": "Hallo\n",
          "output_type": "stream"
        }
      ]
    },
    {
      "metadata": {
        "slideshow": {
          "slide_type": "subslide"
        }
      },
      "id": "d9b1a196",
      "cell_type": "markdown",
      "source": "# Quiz: Guess what happens\n\n```c++\nstruct Base {\n  virtual void hello() const = 0;\n};\n\nstruct Derived : public Base {\n  void hello() const\n  {\n    std::cout << “Hallo\\n”;\n  }\n};\n```"
    },
    {
      "metadata": {
        "slideshow": {
          "slide_type": "subslide"
        }
      },
      "id": "eab2cb58",
      "cell_type": "markdown",
      "source": "# Quiz: Guess what happens\n\n```c++\nstruct Base {\n  virtual void hello() const = 0;\n};\n\nstruct Derived : public Base {\n  void hello() const\n  {\n    std::cout << “Hallo\\n”;\n  }\n};\n```\n- Structurally correct in terms of C++ syntax.\n- `Derived` properly overrides the pure virtual function `hello()` from `Base`, allowing instances of `Derived` to be created and used polymorphically through pointers or references to `Base`."
    },
    {
      "metadata": {
        "slideshow": {
          "slide_type": "subslide"
        }
      },
      "id": "64ba0dbe",
      "cell_type": "markdown",
      "source": "# Quiz: Guess what happens\n\n```c++\nstruct Base {\n  virtual void hello() const {\n    std::cout << \"Hello\\n\";\n  }\n};\n\nstruct Derived : public Base {\n  void hallo() const //Good luck with debugging\n  {\n    std::cout << \"Hallo\\n\";\n  }\n};\n```"
    },
    {
      "metadata": {
        "slideshow": {
          "slide_type": "subslide"
        }
      },
      "id": "df07cac2",
      "cell_type": "markdown",
      "source": "# Quiz: Guess what happens\n\n```C++\nstruct Base {\n  virtual void hello() const {\n    std::cout << \"Hello\\n\";\n  }\n};\nstruct Derived : public Base {\n  void hallo() const //Good luck with debugging\n  {\n    std::cout << \"Hallo\\n\";\n  }\n};\n```\n- The Derived struct inherits from `Base` and introduces a new function `hallo()` that prints `Hallo` to the standard output.\n- However, `Derived` does not override the `hello()` function from Base; it simply provides an additional function."
    },
    {
      "metadata": {
        "slideshow": {
          "slide_type": "slide"
        }
      },
      "id": "10d391bb",
      "cell_type": "markdown",
      "source": "# The `override` keyword\n\nC++11 introduces the `override` keyword to explicitly state that a function from the base class shall be _overridden_"
    },
    {
      "metadata": {
        "tags": [],
        "trusted": false
      },
      "id": "220c1391",
      "cell_type": "code",
      "source": "struct Base {\n  virtual void hello() const = 0;\n  virtual ~Base() {} // virtual destructor for proper cleanup\n};\n\nstruct Derived : public Base {\n  void hello() const override {std::cout << \"Hallo\\n\";}\n};\n\nDerived d;    // Create an instance of Derived\nd.hello();    // Calls the overridden hello() method in Derived\nBase* b = &d; // Since hello() is a virtual function, you can also call it through a Base pointer\nb->hello();   // This will also call Derived::hello()\n              //NOTE: If the function to be overridden does not exist in the base class an error is thrown by the compiler",
      "execution_count": 5,
      "outputs": [
        {
          "name": "stdout",
          "text": "Hallo\nHallo\n",
          "output_type": "stream"
        }
      ]
    },
    {
      "metadata": {
        "slideshow": {
          "slide_type": "subslide"
        }
      },
      "id": "3cc60aad",
      "cell_type": "markdown",
      "source": "# The `override` keyword\n\nThe overriding function must <span style=color:red;>exactly match</span> the signature of the function from the base class\n\n<code>struct Base {\nvirtual <span style=color:red;>void hello() const</span> { std::cout &lt&lt “Hello\\n”; }\n};</code>\n\n<code>struct Derived : public Base {\n<span style=color:red;>void hello() const override</span> { std::cout &lt&lt “Hallo\\n”; }\n};</code>\n\n~~<code>struct Derived2 : public Base {\n<span style=color:red;>void hello() override</span> { std::cout &lt&lt “Hallo\\n”; }\n};</code>~~"
    },
    {
      "metadata": {
        "slideshow": {
          "slide_type": "slide"
        }
      },
      "id": "1580c2c0",
      "cell_type": "markdown",
      "source": "# The final keyword\nC++11 introduces the <span style=color:red;>final</span> keyword to explicitly state that a\nfunction from the base class __must not__ be overridden\n\n<code>struct Base {\nvirtual void hello() const <span style=color:red;>final</span> { std::cout &lt&lt “Hello\\n”; } };</code>\n\nIf a derived class tries to override the function <span style=color:red;>hello</span> an error is thrown by the compiler"
    },
    {
      "metadata": {
        "slideshow": {
          "slide_type": "slide"
        }
      },
      "id": "59198f71",
      "cell_type": "markdown",
      "source": "# The override and final keywords\nThe <span style=color:red>override</span> and <span style=color:red>final</span> keywords are often used together\n\n```cpp\nstruct Base {\n    // Pure virtual function must be overridden in a derived class\n    virtual void hello() const = 0;\n  };\n\n  struct Derived : public Base {\n    // Override pure virtual function and make it final\n    void hello() const override final\n    { std::cout << \"Hello\\n\"; }\n  };\n\n  struct Derived2 : public Derived {\n    // Must not try to override function hello\n};\n```"
    },
    {
      "metadata": {
        "slideshow": {
          "slide_type": "slide"
        }
      },
      "id": "dc02afa6",
      "cell_type": "markdown",
      "source": "# Overloading vs. overriding\n<div id=\"left\" style=\"float: left; width: 50%;\">Implementation of method or operator with <span style=color:red;>identical</span> name but a <span style=color:blue;>different interface</span>, e.g.\n<p><code><span style=color:blue;>double</span> <span style=color:red;>operator*</span>(<span style=color:blue;>const\nVector &amp; other</span>) <span style=color:blue;>const</span> {...}</code></p>\n<h3>overloads</h3>\n<p><code><span style=color:blue;>double</span> <span style=color:red;>operator*</span>(<span style=color:blue;>double\n  other</span>) <span style=color:blue;>const</span> {...}</code></p>\n</div>\n\n<div id=\"right\" style=\"float: right; width: 50%;\">Implementation of method or operator with <span style=color:red;>identical</span> name and the <span style=color:blue;>same interface</span> in a derived class or structure, e.g.\n<p><code>struct Derived : public Base {\n    <span style=color:blue;>void</span> <span style=color:red;>hello</span>(...) const override {...}\n};</code></p>\n<h3>overrides</h3>\n<p><code>struct Base {\n    virtual <span style=color:blue;>void</span> <span style=color:red;>hello</span>(...) const {...};\n};</code></p>\n</div>   "
    },
    {
      "metadata": {
        "slideshow": {
          "slide_type": "subslide"
        }
      },
      "id": "bba079e0",
      "cell_type": "markdown",
      "source": "# Overloading vs. overriding\n<img src=\"plots/lecture3_overloadingvsoverriding.png\" width=\"700\" >"
    },
    {
      "metadata": {
        "slideshow": {
          "slide_type": "slide"
        }
      },
      "id": "29c787e8",
      "cell_type": "markdown",
      "source": "# Implementation time! Task: Calculator\nWrite a class (or for demonstrating purposes a hierarchy of classes) that provide(s) a member function to calculate the **sum of two and three integer values,** respectively\n- Use *static* polymorphism: method overloading\n- Use *dynamic* polymorphism: method overriding"
    },
    {
      "metadata": {
        "slideshow": {
          "slide_type": "subslide"
        }
      },
      "id": "85357aad",
      "cell_type": "markdown",
      "source": "# Static polymorphism\n__Method overloading__ (at compile time), the <code>StaticCalc</code> has two member functions with <span style=color:red;>identical names</span> but <span style=color:blue;>different interface</span>; compiler can decide __at compile time__ which of the two functions should be used"
    },
    {
      "metadata": {
        "tags": [],
        "trusted": false
      },
      "id": "b9317436",
      "cell_type": "code",
      "source": "struct StaticCalc {\n    int sum(int a, int b) const {\n        return a + b;\n    }\n    \n    // Overloaded function to sum three integers\n    int sum(int a, int b, int c) const { return sum(sum(a,b),c);}\n};\n\nStaticCalc statC;\nstd::cout << \"Static sum of two integers: \" << statC.sum(1, 2) << std::endl;\nstd::cout << \"Static sum of three integers: \" << statC.sum(1, 2, 3) << std::endl;",
      "execution_count": 6,
      "outputs": [
        {
          "name": "stdout",
          "text": "Static sum of two integers: 3\nStatic sum of three integers: 6\n",
          "output_type": "stream"
        }
      ]
    },
    {
      "metadata": {
        "slideshow": {
          "slide_type": "subslide"
        }
      },
      "id": "3fd89e64",
      "cell_type": "markdown",
      "source": "# Static polymorphism\n__Method overloading__ (not working!)\n\n```cpp\nstruct StaticCalcBug {\n int sum(int a, int b) { return a+b; }\nvoid sum(int a, int b) { std::cout&lt&lt a+b &lt&ltstd::endl; }\n};\n```\n\n- Difference must be in the __interface of the arguments passed__. Same name with different parameter lists is allowed (either the number of parameters or their types must differ).\n- You cannot have two functions that only differ by their __return type__. Because the return type could be cast into another type"
    },
    {
      "metadata": {
        "slideshow": {
          "slide_type": "subslide"
        }
      },
      "id": "d1f9b947",
      "cell_type": "markdown",
      "source": "# Static polymorphism\n__Method overloading__ (also not working!)\n\n```cpp\nstruct StaticCalcBug2 {\n    int sum(int a, int b) { return a+b; }\n    int sum(int c, int d) { return c+d; }\n  };\n```\n\n- The interface only refers to the `types` and not to the `names`"
    },
    {
      "metadata": {
        "slideshow": {
          "slide_type": "subslide"
        }
      },
      "id": "1bc05ee8",
      "cell_type": "markdown",
      "source": "# Static polymorphism - Final counter example\n\n__Method overloading__ (still not working!)\n\n```cpp\nstruct StaticCalcBugLast {\n    int sum(int a, int b) { return a+b; }\n    int sum(int a, int b, int c=1) { return a+b+c; }\n  };\n```\n\n- Be careful with __default values<__. Here, the compiler cannot decide __unambiguously__ which of the two functions should be used in the case `sum(arg0, arg1)`"
    },
    {
      "metadata": {
        "slideshow": {
          "slide_type": "skip"
        }
      },
      "id": "b608b4b4",
      "cell_type": "markdown",
      "source": "# Rule of thumb:\n__If it is not crystal clear to you which function should be used then the compiler will fail, too.__\n<center><img src=\"plots/lecture3cat.gif\" width=\"400\" ></center>"
    },
    {
      "metadata": {
        "slideshow": {
          "slide_type": "subslide"
        }
      },
      "id": "0078e458",
      "cell_type": "markdown",
      "source": "# Static polymorphism (master version1)\n\n__Method overloading__: decision about which method to call is made at compile time; hence the compiler can decide to __inline code__ to improve performance (no overhead due to function calls and copying of data to and from the stack!)\n\n```C++\nstd::cout << statC.sum(1,2)   << std::endl;\nstd::cout << statC.sum(1,2,3) << std::endl;\n```\n becomes\n\n```C++\nstd::cout << (1+2)        << std::endl;\nstd::cout << ((1+2)+3)    << std::endl;\n```"
    },
    {
      "metadata": {
        "slideshow": {
          "slide_type": "subslide"
        }
      },
      "id": "3f4ddb3a",
      "cell_type": "markdown",
      "source": "# Static polymorphism (master version2)\n\n__Method overloading__: since static polymorphism takes place at compile time, the `inline` specifier can be used to explicitly ‘suggest’ to the compiler to inline the function\n\n```cpp\nstruct StaticCalcMaster {\n    inline int sum(int a, int b)        { return a+b; }\n    inline int sum(int a, int b, int c) { return sum(sum(a,b),c); }\n  };\n```"
    },
    {
      "metadata": {
        "slideshow": {
          "slide_type": "slide"
        }
      },
      "id": "1f1852a6",
      "cell_type": "markdown",
      "source": "# Dynamic polymorphism\n\n__Method overriding__: reimplementation of a function inherited from a base class with new function body and same interface!"
    },
    {
      "metadata": {
        "tags": [],
        "trusted": false
      },
      "id": "044be82b",
      "cell_type": "code",
      "source": "struct BaseCalc {\n    virtual int sum2(int a, int b) { return a+b; }\n    int sum3(int a, int b, int c)\n        { return sum2(sum2(a,b),c); }\n  };\n\nstruct DerivedCalc : public BaseCalc {\n    int sum2(int a, int b) override final { return b+a; }\n};",
      "execution_count": 7,
      "outputs": []
    },
    {
      "metadata": {
        "tags": [],
        "slideshow": {
          "slide_type": "subslide"
        },
        "trusted": false
      },
      "id": "7e53ac75",
      "cell_type": "code",
      "source": "BaseCalc baseCalc;\nDerivedCalc derivedCalc;\n\n// Using the base class to sum two numbers\nstd::cout << \"BaseCalc sum2: \" << baseCalc.sum2(1, 2) << std::endl;\n\n// Using the base class to sum three numbers\nstd::cout << \"BaseCalc sum3: \" << baseCalc.sum3(1, 2, 3) << std::endl;\n\n// Using the derived class to sum two numbers, this will use the overridden method\nstd::cout << \"DerivedCalc sum2: \" << derivedCalc.sum2(1, 2) << std::endl;\n\n// Using the derived class to sum three numbers, this will use the base\n// class method sum3, which in turn will use the overridden sum2 method\n// from DerivedCalc\nstd::cout << \"DerivedCalc sum3: \" << derivedCalc.sum3(1, 2, 3) << std::endl; ",
      "execution_count": 8,
      "outputs": [
        {
          "name": "stdout",
          "text": "BaseCalc sum2: 3\nBaseCalc sum3: 6\nDerivedCalc sum2: 3\nDerivedCalc sum3: 6\n",
          "output_type": "stream"
        }
      ]
    },
    {
      "metadata": {
        "slideshow": {
          "slide_type": "subslide"
        }
      },
      "id": "5a1aba0e",
      "cell_type": "markdown",
      "source": "# Dynamic polymorphism (where things can go wrong)\n\n__Method overriding__: a common pitfall is to forget the virtual specifier in the base class to indicate that the <code>sum2</code> function from the base class can be overridden in a derived class\n\n<code>struct BaseCalc {\n    <span style=color:red;>int sum2</span>(int a, int b) { return a+b; }\n    <span style=color:red;>int sum3</span>(int a, int b, int c){ return sum2(sum2(a,b),c); }\n  };\n  struct DerivedCalc : public BaseCalc {\n    <span style=color:red;>int sum2</span>(int a, int b) { return b+a; }\n};</code>"
    },
    {
      "metadata": {
        "slideshow": {
          "slide_type": "subslide"
        }
      },
      "id": "1a10cd6d",
      "cell_type": "markdown",
      "source": "# Dynamic polymorphism (where things can go wrong)\nTake home notes, read after the lecture.\nHere's what happens if you forget <code>virtual</code> specifier\n- __Method Hiding:__ In <code>DerivedCalc</code>, the <code>sum2</code> method hides the <code>sum2</code> method from <code>BaseCalc</code>. This means that if you have an object of <code>DerivedCalc</code> and call <code>sum2</code>, it will use <code>DerivedCalc</code>'s <code>sum2</code>. However, if you have a pointer or reference to <code>BaseCalc</code> that actually points to a <code>DerivedCalc</code> object and call <code>sum2</code>, it will still use <code>BaseCalc</code>'s <code>sum2</code>. This is because the method is not virtual and hence does not support polymorphic behavior.\n"
    },
    {
      "metadata": {
        "slideshow": {
          "slide_type": "subslide"
        }
      },
      "id": "d3e4681a",
      "cell_type": "markdown",
      "source": "- __No Polymorphism:__ Without the virtual keyword in <code>BaseCalc</code>, <code>sum2</code> in <code>DerivedCalc</code> doesn't exhibit polymorphic behavior, crucial for method overriding in C++.\n\n<span style=color:red;><u>Rule of thumb:</u></span> These bugs are hard to find (they often remain unrecognised) and can be prevented by using the <code>override</code> keyword in C++11. It explicitly indicates that a function is intended to override a virtual function in a base class."
    },
    {
      "metadata": {
        "slideshow": {
          "slide_type": "subslide"
        }
      },
      "id": "6922d1ff",
      "cell_type": "markdown",
      "source": "# Dynamic polymorphism - general suggestions\n__Method overriding:__ decision about which virtual method to call is made at run time; hence inlining is not possible\n\nCommon design pattern\n- Specify <span style=color:red;>expected minimal functionality</span> of a group of classes in\nabstract base class via <span style=color:red;>pure virtual member functions</span>\n- Implement generic common functionality of a group of classes in\nabstract base class via <span style=color:red;>virtual member functions</span>\n- Implement specific functionality of a particular derived class by <span style=color:red;>overriding the pure virtual member function</span>"
    },
    {
      "metadata": {
        "slideshow": {
          "slide_type": "slide"
        }
      },
      "id": "c8e2962e",
      "cell_type": "markdown",
      "source": "# Example: inner product space\nIn linear algebra, an inner product space is a vector space $V$ that is equipped with a special mapping (inner product)\n$$\\langle\\cdot, \\cdot\\rangle: V \\times V \\rightarrow \\mathbb{R}\\text{ or }\\mathbb{C}$$\nInner product spaces have a naturally induced norm\n$$\\|x\\|=\\sqrt{\\langle x, x\\rangle}$$"
    },
    {
      "metadata": {
        "slideshow": {
          "slide_type": "subslide"
        }
      },
      "id": "a33f6fa6",
      "cell_type": "markdown",
      "source": "# Example: inner product space\nClass <code>InnerProductSpaceBase</code> __declares inner product__ as pure\nvirtual and __implements the naturally induced norm__\n\n<code>struct InnerProductBase\n{\n    <span style=color:red;>virtual</span> double <span style=color:red;>inner_product</span>(... x,... y)<span style=color:red;> = 0</span>;\n    double norm(... x) { return inner_product(x,x); }\n};</code>\n\nDerived <code>InnerProductSpace</code> class __implements inner product__\n\n<code>struct InnerProductSpace : public InnerProductSpaceBase {\n    double <span style=color:red;>inner_product</span>(... x, ... y) = { return x*y; }};</code>"
    },
    {
      "metadata": {
        "slideshow": {
          "slide_type": "slide"
        }
      },
      "id": "ea9e50bd",
      "cell_type": "markdown",
      "source": "# Implementation time! Task: Calculator2\nExtend the calculator class so that it can handle numbers of integer, float and double type at the same time\n\n- Prevent manual code duplication\n- Prevent explicit type casting\n- Make use of auto-functionality (C++11/14/17)\n- Make use of template meta programming"
    },
    {
      "metadata": {
        "slideshow": {
          "slide_type": "slide"
        }
      },
      "id": "5ccb14af",
      "cell_type": "markdown",
      "source": "# Vanilla implementation in C++"
    },
    {
      "metadata": {
        "tags": [],
        "trusted": false
      },
      "id": "3ca269a9",
      "cell_type": "code",
      "source": "# include <iostream>\nstruct Calc2 {\n    int sum(int a, int b) { return a + b; }\n    int sum(int a, int b, int c) { return sum(sum(a, b), c); }\n};\n\nCalc2 calculator;\n\n// Using the sum method with two arguments\nstd::cout << \"Sum of 1 and 2: \" << calculator.sum(1, 2) << std::endl;\n\n// Using the sum method with three arguments\nstd::cout << \"Sum of 1, 2, and 3: \" << calculator.sum(1, 2, 3) << std::endl;",
      "execution_count": 9,
      "outputs": [
        {
          "name": "stdout",
          "text": "Sum of 1 and 2: 3\nSum of 1, 2, and 3: 6\n",
          "output_type": "stream"
        }
      ]
    },
    {
      "metadata": {
        "slideshow": {
          "slide_type": "slide"
        }
      },
      "id": "df8b9e7b",
      "cell_type": "markdown",
      "source": "# Automatic return type deduction (C++11)\n- Explicit definition of the function return type\n  ```cpp\n  int sum(int a, int b)\n      { return a+b; }\n  ```\n\n- Automatic function return type (since C++11)\n  ```cpp\n  auto sum(int a, int b) -> decltype(a+b)\n       { return a+b; }\n  ```\n- By using `decltype`, the __return type__ of the sum function is determined automatically as the type of `operator+(a,b)`"
    },
    {
      "metadata": {
        "slideshow": {
          "slide_type": "subslide"
        }
      },
      "id": "ccc39c6b",
      "cell_type": "markdown",
      "source": "# Automatic return type deduction\n\nThe `decltype` specifier (C++11) queries the type of an expression"
    },
    {
      "metadata": {
        "tags": [],
        "trusted": false
      },
      "id": "7d312541",
      "cell_type": "code",
      "source": "#include <iostream>\nstruct Calc2 {\n    \n    auto sum(int a, int b) -> decltype(a + b) {\n        return a + b;\n    }\n    \n    auto sum(int a, int b, int c) -> decltype(sum(sum(a, b), c)) {\n        return sum(sum(a, b), c);\n    }\n};\n\nCalc2 C;\nstd::cout << C.sum(1, 2) << std::endl;   // Outputs: 3\nstd::cout << C.sum(1, 2, 3) << std::endl; // Outputs: 6",
      "execution_count": 10,
      "outputs": [
        {
          "name": "stdout",
          "text": "3\n6\n",
          "output_type": "stream"
        },
        {
          "execution_count": 10,
          "output_type": "execute_result",
          "data": {
            "text/plain": "@0x7ffb425f6de0"
          },
          "metadata": {}
        }
      ]
    },
    {
      "metadata": {
        "slideshow": {
          "slide_type": "subslide"
        }
      },
      "id": "b6666835",
      "cell_type": "markdown",
      "source": "# Automatic type deduction (C++14)\n\nC++14 deduces the type of parameters automatically\n\n```cpp\nauto sum(int a, int b) // no -> decltype(...) needed\n    { return a+b; }\n\nauto sum(int a, int b, int c) // no -> decltype(...) needed\n    { return sum(sum(a,b),c); }\n```\n   \n__Remark:__ This C++14 feature helps to improve readability of the code and prevents deduction errors (due to forgotten/ inconsistent deduction rule by the programmer) but it does not solve the problem of being able to pass arguments of different types to the same function"
    },
    {
      "metadata": {
        "slideshow": {
          "slide_type": "slide"
        }
      },
      "id": "5c04f99f",
      "cell_type": "markdown",
      "source": "# Function templates\n\nTemplate meta programming is the standard technique to deal with arbitrary (= generic) function parameters\n\n__Function templates:__ allow you to implement so-called parameterized functions for generic parameter types\n\n<code><span style=color:red;>template&lt</span><span style=color:purple;>typename R</span>, <span style=color:blue;>typename A, typename B</span>>\n<span style=color:purple;>R</span> sum(<span style=color:blue;>A</span> a, <span style=color:blue;>B</span> b)\n{return a+b; }</code>"
    },
    {
      "metadata": {
        "slideshow": {
          "slide_type": "subslide"
        }
      },
      "id": "aed51a91",
      "cell_type": "markdown",
      "source": "# Function templates\n\nTypes must be specified explicitly when the function is called\n\n<code><span style=color:purple;>int</span> s1 = <span style=color:red;>sum&lt</span> <span style=color:purple;>int</span>, <span style=color:blue;>int, int</span>>(1, 2);\n<span style=color:purple;>double</span> s2 = <span style=color:red;>sum&lt</span><span style=color:purple;>double</span>, <span style=color:blue;>double, int</span>>(1.2, 2);\n<span style=color:purple;>double</span> s3 = <span style=color:red;>sum&lt</span><span style=color:purple;>double</span>,<span style=color:blue;> float, double</span>>(1.4, 2.2);\n</code>\nThis can be slightly simplified by using the __auto specifier__\n\n<code><span style=color:purple;>auto</span> s1 = <span style=color:red;>sum&lt</span> <span style=color:purple;>int</span>, <span style=color:blue;>int, int</span>>(1, 2);\n<span style=color:purple;>auto</span> s2 = <span style=color:red;>sum&lt</span><span style=color:purple;>double</span>, <span style=color:blue;>double, int</span>>(1.2, 2);\n<span style=color:purple;>auto</span> s3 = <span style=color:red;>sum&lt</span><span style=color:purple;>double</span>,<span style=color:blue;> float, double</span>>(1.4, 2.2);\n</code>"
    },
    {
      "metadata": {
        "slideshow": {
          "slide_type": "subslide"
        }
      },
      "id": "e60a2c69",
      "cell_type": "markdown",
      "source": "# Function templates\n\nC++11: __automatic return type deduction__\n\n<code><span style=color:red;>template&lt</span> <span style=color:blue;>typename A, typename B</span>>\n<span style=color:purple;>auto</span> sum(<span style=color:blue;>A</span> a, <span style=color:blue;>B</span> b)<span style=color:purple;> –> decltype(a+b)</span>{ return a+b; }</code>\n\nC++14: __automatic type deduction__\n\n<code><span style=color:red;>template&lt</span> <span style=color:blue;>typename A, typename B</span>>\n<span style=color:purple;>auto</span> sum(<span style=color:blue;>A</span> a, <span style=color:blue;>B</span> b){ return a+b; }</code>\n\nUsage\n\n<code><span style=color:purple;>auto</span> s1 = <span style=color:red;>sum&lt</span><span style=color:blue;>int, int</span>>(1, 2);</code>"
    },
    {
      "metadata": {
        "slideshow": {
          "slide_type": "subslide"
        }
      },
      "id": "9551ad42",
      "cell_type": "markdown",
      "source": "# Function templates\n\nHow to convert this function into a templated function\n\n```C++\nint sum(int a, int b, int c)\n{\n      return sum(sum(a,b), c);\n}\n```  "
    },
    {
      "metadata": {
        "slideshow": {
          "slide_type": "subslide"
        }
      },
      "id": "4c93950a",
      "cell_type": "markdown",
      "source": "# Function templates\n\nUse explicit return type parameter (ugly!) -> NO\n\n<code><span style=color:red;>template&lt</span><span style=color:purple;>typename R,</span><span style=color:blue;> typename A, typename B, typename C</span><span style=color:red;>></span>\n<span style=color:purple;>auto</span> sum(<span style=color:blue;>A</span> a, <span style=color:blue;>B</span> b, <span style=color:blue;>C</span> c)\n  {\n      return <span style=color:red;>sum&lt</span><span style=color:purple;>R</span><span style=color:blue;>,C</span><span style=color:red;>></span>(<span style=color:red;>sum&lt</span><span style=color:blue;>A,B</span><span style=color:red;>></span>(a,b), c);\n  }</code>\n \nGuess what this function call will return\n\n<code>auto s1 = sum<span style=color:red;>&lt</span> <span style=color:purple;>int,</span> <span style=color:blue;>double,double,double</span><span style=color:red;>></span>(1.1,2.2,3.3)</code>"
    },
    {
      "metadata": {
        "slideshow": {
          "slide_type": "subslide"
        }
      },
      "id": "cdc02ef1",
      "cell_type": "markdown",
      "source": "# Function templates\n\nUse a smart combination of templates and auto specifier\n\n<code><span style=color:red;>template&lt</span><span style=color:blue;>typename A, typename B</span><span style=color:red;>></span>\n<span style=color:purple;>auto</span> sum(<span style=color:blue;>A</span> a, <span style=color:blue;>B</span> b) <span style=color:purple;>-> decltype(a+b) // omit in C++14</span>\n{return a+b; }\n</code>\n\n<code><span style=color:red;>template&lt</span><span style=color:blue;>typename A, typename B, typename C</span><span style=color:red;>></span>\n<span style=color:purple;>auto</span> sum(<span style=color:blue;>A</span> a, <span style=color:blue;>B</span> b, <span style=color:blue;>C</span> c)\n{\n    return <span style=color:red;>sum&lt</span><span style=color:purple;>decltype(sum&ltA,B>(a,b))</span>,C<span style=color:red;>></span> (<span style=color:red;>sum&lt</span><span style=color:blue;>A,B</span><span style=color:red;>></span>(a,b), c);\n}</code>"
    },
    {
      "metadata": {
        "slideshow": {
          "slide_type": "subslide"
        }
      },
      "id": "7b01af98",
      "cell_type": "markdown",
      "source": "# Function templates\nBut wait, C++ <u>can</u> deduce the type of the template\nargument from the given argument automatically\n\n<code><span style=color:red;>template&lt</span><span style=color:blue;>typename A, typename B</span><span style=color:red;>></span>\n<span style=color:purple;>auto</span> sum(<span style=color:blue;>A</span> a, <span style=color:blue;>B</span> b) <span style=color:purple;>-> decltype(a+b) // omit in C++14</span>\n{return a+b; }\n</code>\n\n<code>\n<span style=color:red;>template&lt</span><span style=color:blue;>typename A, typename B, typename C</span><span style=color:red;>></span>\n<span style=color:purple;>auto</span> sum(<span style=color:blue;>A</span> a, <span style=color:blue;>B</span> b, <span style=color:blue;>C</span> c)\n{\n    return <span style=color:red;>sum</span>(<span style=color:red;>sum</span>(a,b), c);\n}</code>"
    },
    {
      "metadata": {
        "slideshow": {
          "slide_type": "subslide"
        }
      },
      "id": "a40ccf72",
      "cell_type": "markdown",
      "source": "# Function templates\n\nWe can call the generic sum functions as follows:\n\n<code><span style=color:purple;>auto</span> s1 = <span style=color:red;>sum&lt</span><span style=color:blue;>int, int</span><span style=color:red;>></span> (1, 2);\n<span style=color:purple;>auto</span> s2 = <span style=color:red;>sum&lt</span><span style=color:blue;>double, int</span><span style=color:red;>></span>  (1.2, 2);\n<span style=color:purple;>auto</span> s3 = <span style=color:red;>sum&lt</span><span style=color:blue;>float, double</span><span style=color:red;>></span>(1.4f, 2.2);</code>\n\nOr, even simpler, as follows:\n\n<code><span style=color:purple;>auto</span> s1 = <span style=color:red;>sum</span> (1, 2);\n<span style=color:purple;>auto</span> s2 = <span style=color:red;>sum</span> (1.2, 2);\n<span style=color:purple;>auto</span> s3 = <span style=color:red;>sum</span> (1.4f, 2.2)</code>"
    },
    {
      "metadata": {
        "slideshow": {
          "slide_type": "subslide"
        }
      },
      "id": "01ad453e",
      "cell_type": "markdown",
      "source": "# Function templates\n\n- Since the compiler needs to duplicate code and substitute A,B,C for each combination of templated types both the compile time and the size of the executable will increase\n- Template meta programming is simplest if the code resides in header files only; later we will see how to use template meta-programming together with pre-compiled libraries"
    },
    {
      "metadata": {
        "slideshow": {
          "slide_type": "slide"
        }
      },
      "id": "faab6efb",
      "cell_type": "markdown",
      "source": "# Implementation time! Task: generic Vector class\n\nWrite a Vector class that can store real values and complex values and supports the following operations:\n- Addition of two vectors of the same length\n- Multiplication of a vector with a scalar\n- Dot product of a vector with another one\nIn all operations, the involved objects (vectors/scalar) can be of different types, e.g., double/float"
    },
    {
      "metadata": {
        "slideshow": {
          "slide_type": "slide"
        }
      },
      "id": "e2f214ca",
      "cell_type": "markdown",
      "source": "# Vector class prototype\n\nImplementation of Vector-of-double class"
    },
    {
      "metadata": {
        "tags": [],
        "scrolled": true,
        "trusted": false
      },
      "id": "2d40162c",
      "cell_type": "code",
      "source": "#include <iostream>\nclass Vector{\nprivate:\n    double* data;\n    int n;\npublic:\n//----------------------------------- Constructors below --------------------------------------------------//\n    Vector() : n(0), data(nullptr) {} // Default constructor\n\n    Vector(int n) : n(n), data(new double[n]) {} // Constructor with size\n\n    ~Vector(){ n=0;  delete[] data; }// Destructor\n//----------------------------------- method and operators --------------------------------------------------//\n\n    // Addition (+=) operator\n    Vector& operator+=(const Vector& other) {\n        if (n != other.n) {\n            throw std::invalid_argument(\"Vectors must be of the same size\");\n        }\n        for (auto i = 0; i < n; i++) {\n            data[i] += other.data[i];\n        }\n        return *this;\n    }\n\n    // Scalar multiplication (*=) operator\n    Vector& operator*=(double scalar) {\n        for (int i = 0; i < n; i++) {\n            data[i] *= scalar;\n        }\n        return *this;\n    }\n\n    // Dot product\n    double dot(const Vector& other) const {\n        if (n != other.n) {\n            throw std::invalid_argument(\"Vectors must be of the same size\");\n        }\n        double sum = 0;\n        for (auto i = 0; i < n; i++) {\n            sum += data[i] * other.data[i];\n        }\n        return sum;\n    }\n    // Subscript operator\n    double& operator[](int index) {\n        if (index >= n || index < 0) {\n            throw std::out_of_range(\"Index out of range\");\n        }\n        return data[index];\n     }\n};",
      "execution_count": 71,
      "outputs": []
    },
    {
      "metadata": {
        "slideshow": {
          "slide_type": "slide"
        }
      },
      "id": "359d5141",
      "cell_type": "markdown",
      "source": "# Brainstorming\n__Function templates__ alone will not help since the type of a class attribute needs to be templated -&gt; <span style=color:red;>class templates</span>\n\nSome member functions can be implemented generically, e.g., addition of two vectors and multiplication of a vector with a scalar value since they are the same for all types\n\nSome member functions must be implemented in different manners for real and complex values -&gt; <span style=color:red;>specialisation</span>\n\n$$x \\cdot y=\\sum_{i=1}^n x_i y_i, \\quad x, y \\in \\mathbb{R}, \\quad x \\cdot y=\\sum_{i=1}^n x_i \\bar{y}_i \\quad x, y \\in \\mathbb{C}$$"
    },
    {
      "metadata": {
        "slideshow": {
          "slide_type": "slide"
        }
      },
      "id": "8297b9e9",
      "cell_type": "markdown",
      "source": "# Class template: anything vector class\nImplementation of Vector-of-<span style=color:blue;>anything</span> class --  creating a generic vector that can store elements of any type.\n\n<u>CAUTION:</u> We are going to leave the presentation mode to have an overview of the entire program (without the main function).\n"
    },
    {
      "metadata": {
        "tags": [],
        "slideshow": {
          "slide_type": "fragment"
        },
        "trusted": false
      },
      "id": "d299ebe4",
      "cell_type": "code",
      "source": "#include <iostream>\n#include <stdexcept>\n\ntemplate<typename T>\nclass Vector {\nprivate:\n    T* data;\n    int n;\n\npublic:\n//--------------------------------------Constructors below-----------------------------------------//\n    // Default constructor\n    Vector() : data(nullptr), n(0) {}\n\n    // Constructor with size\n    Vector(int n) : n(n), data(new T[n]()) {}\n\n    // Destructor\n    ~Vector() {\n        delete[] data;\n    }\n\n//----------------------End of constructors, go to next page for explaination----------------------//\n    \n\n//------------------------------------Methods and operators below-----------------------------------------// \n    // Addition (+=) operator\n    Vector<T>& operator+=(const Vector<T>& other) {\n        if (n != other.n) {\n            throw std::invalid_argument(\"Vectors must be of the same size\");\n        }\n        for (int i = 0; i < n; i++) {\n            data[i] += other.data[i];\n        }\n        return *this;\n    }\n    \n    // Scalar multiplication (*=) operator\n    Vector<T>& operator*=(T scalar) {\n        for (int i = 0; i < n; i++) {\n            data[i] *= scalar;\n        }\n        return *this;\n    }\n    \n    // Dot product\n    T dot(const Vector<T>& other) const {\n        if (n != other.n) {\n            throw std::invalid_argument(\"Vectors must be of the same size\");\n        }\n        T sum = 0;\n        for (int i = 0; i < n; i++) {\n            sum += data[i] * other.data[i];\n        }\n        return sum;\n    }\n//------------------Combined class template and function template below------------------------// \n    template<typename S>\n    Vector<T>& operator*=(S scalar){\n        for (auto i=0; i<n; i++)\n            data[i] *= scalar;\n        return *this;\n    }\n    \n// Non-const subscript operator\n    T& operator[](int index) {\n        if (index < 0 || index >= n) {\n            throw std::out_of_range(\"Index out of range\");\n        }\n        return data[index];\n    }\n\n// Const version of subscript operator\n    const T& operator[](int index) const {\n        if (index < 0 || index >= n) {\n            throw std::out_of_range(\"Index out of range\");\n        }\n        return data[index];\n    }\n};",
      "execution_count": 72,
      "outputs": []
    },
    {
      "metadata": {
        "slideshow": {
          "slide_type": "subslide"
        }
      },
      "id": "d064f346",
      "cell_type": "markdown",
      "source": "# Class template\nTemplate parameter must be explicitly specified\n```C++\nVector<int> x(10);  // Vector-of-int with length 10\nVector<double> y;   // Empty Vector-of-double\nVector<float> z(5); // Vector-of-float with length 5    \n```\n\nRemark: if you want to pass a Vector-of-<span style=color:blue;>anything</span> to a function in the templated class Vector you have to write\n\n```C++\nVector<T>  v\nVector<T>& v\n```\n\ninstead of\n\n```C++\nVector  v\nVector& v\n```"
    },
    {
      "metadata": {
        "slideshow": {
          "slide_type": "subslide"
        }
      },
      "id": "cc5be4cb",
      "cell_type": "markdown",
      "source": "# Class template\nWith the **class template parameter T** we can do"
    },
    {
      "metadata": {
        "tags": [],
        "trusted": false
      },
      "id": "fa572e28",
      "cell_type": "code",
      "source": "Vector<int> x1(5);\nVector<int> x2(5);\n\n// Initialize x1 and x2 with some values\nfor (int i = 0; i < 5; ++i) {\n    x1[i] = i + 1;  // x1 = [1, 2, 3, 4, 5]\n    x2[i] = 2 * (i + 1);  // x2 = [2, 4, 6, 8, 10]\n}\n\nx1 += x2; // x1 = [3, 6, 9, 12, 15]\nx1 *= 2;  // x1 = [6, 12, 18, 24, 30]\nint dot_product = x1.dot(x2);  // Dot product of x1 and x2\n\nstd::cout << \"Dot product:\" << dot_product;",
      "execution_count": 70,
      "outputs": [
        {
          "name": "stdout",
          "text": "Dot product:660",
          "output_type": "stream"
        }
      ]
    },
    {
      "metadata": {
        "slideshow": {
          "slide_type": "subslide"
        }
      },
      "id": "d2d728f9",
      "cell_type": "markdown",
      "source": "How about?\n\n```C++\nVector<int> x2(5);\nx2 *= (double)1.2;\n```"
    },
    {
      "metadata": {
        "slideshow": {
          "slide_type": "slide"
        }
      },
      "id": "924586b6",
      "cell_type": "markdown",
      "source": "# Intermezzo\n\n<code><span style=color:red;>template</span><span style=color:red;>&lt</span><span style=color:blue;>typename T</span><span style=color:red;>></span>\nclass Vector {\n...\n      <span style=color:red;>template&lt</span><span style=color:purple;>typename S</span><span style=color:red;>></span>\n      Vector&lt<span style=color:blue;>T</span>>&amp operator*=(<span style=color:purple;>S</span> scalar)\n      {\n          for (auto i=0; i&ltn; i++)\n              data[i] *= scalar;\n          return *this;\n      }\n};\n</code>"
    },
    {
      "metadata": {
        "slideshow": {
          "slide_type": "subslide"
        }
      },
      "id": "1ee4a135",
      "cell_type": "markdown",
      "source": "# Intermezzo\nAt first glance, this seems to be more flexible\n\n<code>Vector&lt<span style=color:blue;>double</span>> x1(5); x1 = x1*(<span style=color:purple;>int</span>)(5);</code>\n\nBut be really careful since strange things can happen\n\n<code>Vector&lt<span style=color:blue;>int</span>> x1(5); x1 = x1*(<span style=color:purple;><span style=color:purple;>double</span></span>)(5);</code>\n\n<u>Rule of thumb:</u> before using extensive template meta programming like this think about all(!) implications"
    },
    {
      "metadata": {
        "slideshow": {
          "slide_type": "subslide"
        }
      },
      "id": "040d2875",
      "cell_type": "markdown",
      "source": "# Specialization\nThe dot product needs special treatment since\n\n<code><span style=color:blue>T</span> dot(const Vector&lt<span style=color:blue>T</span>>&amp other) const\n    {\n        <span style=color:blue>T</span> d=0;\n        for (auto i=0; i&ltn; i++)\n             d += data[i]*other.data[i];\n        return d; }</code>\n- Lacks the complex conjugate of other and yields the wrong return type in case of complex-valued vectors\n\n<u>Remedy:</u> implement a specialised variant for this case"
    },
    {
      "metadata": {
        "slideshow": {
          "slide_type": "subslide"
        }
      },
      "id": "3ca84f3f",
      "cell_type": "markdown",
      "source": "# Specialization\nGeneric dot product implemented in Vector class\n\n<code>#include &ltcomplex>\n<span style=color:red>template</span>&lt<span style=color:blue>typename T</span>>\nclass Vector { ...\n   <span style=color:blue>T</span> dot(const Vector&lt<span style=color:blue>T</span>>&amp other) const {...}\n};</code>\n\nThis function is used whenever no specialized implementation for a concrete type is available"
    },
    {
      "metadata": {
        "slideshow": {
          "slide_type": "subslide"
        }
      },
      "id": "12068121",
      "cell_type": "markdown",
      "source": "# Specialization\n Specialized dot product for Vectors-of-<span style=color:blue;>complex</span>-<span style=color:purple;>complex</span>\n \n<code><span style=color:red;>template&lt></span>\n<span style=color:blue;>std::complex&lt</span><span style=color:purple;>float</span><span style=color:blue;>></span> Vector&lt <span style=color:blue;><span style=color:blue;>std::complex&lt</span></span><span style=color:purple;>float</span><span style=color:blue;>></span> >::\n    dot(const Vector&lt <span style=color:blue;>std::complex&lt</span><span style=color:purple;>float</span>>>&amp other) const {\n          <span style=color:blue;>std::complex&lt</span><span style=color:purple;>float</span><span style=color:blue;>></span> d=0;\n          <span style=color:red;>// special treatment of dot product</span>\n          for (auto i=0; i&ltn; i++)\n              d += data[i]*<span style=color:red;>std::conj(</span>other.data[i]<span style=color:red;>)</span>;\n          return d;\n}</code>"
    },
    {
      "metadata": {
        "slideshow": {
          "slide_type": "subslide"
        }
      },
      "id": "c748a549",
      "cell_type": "markdown",
      "source": "# Specialization\n\nCurrent implementation yields\n\n<code>Vector&lt<span style=color:blue;>float</span>> x1(5), x2(5);\nauto x1.dot(x2); // calls generic implementation</code>\n\n<code>Vector&lt<span style=color:blue;>std::complex&lt</span><span style=color:purple;>float</span><span style=color:blue;>></span> x1(5), x2(5);\nauto x1.dot(x2); // calls generic implementation</code>\n\n<code>Vector&lt<span style=color:blue;>std::complex&lt</span><span style=color:purple;>double</span><span style=color:blue;>></span> > z1(5), z2(5);\nauto z1.dot(z2); // calls generic implementation</code>\n\n<code>auto x1.dot(y1); // does not even compile</code>"
    },
    {
      "metadata": {
        "slideshow": {
          "slide_type": "slide"
        }
      },
      "id": "4de0e0b9",
      "cell_type": "markdown",
      "source": "# Outlook on next session\n\nC++ allows you to **partially specialize** class templates\n\n<code><span style=color:red;>template&lt</span><span style=color:purple;>typename S</span><span style=color:red;>></span>\n<span style=color:blue;>std::complex&lt</span><span style=color:purple;>S</span>> Vector&lt<span style=color:blue;>std::complex&lt</span><span style=color:purple;>S</span>> >::\n    dot(const Vector&lt<span style=color:blue;>std::complex&lt</span><span style=color:purple;>S</span>> > other) const { \n        <span style=color:blue;>std::complex&lt</span><span style=color:purple;>S</span>> d=0;\n        for (auto i=0; i&ltn; i++)\n              d += data[i]*<span style=color:red;>std::conj(</span>other.data[i]<span style=color:red;>)</span>;\n        return d;\n}</code>\n\nNote that this code will not compile. We will see why and learn remedies. Welcome to where template magic begins!"
    }
  ],
  "metadata": {
    "celltoolbar": "Slideshow",
    "kernelspec": {
      "name": "xcpp17",
      "display_name": "C++17",
      "language": "C++17"
    },
    "language_info": {
      "codemirror_mode": "text/x-c++src",
      "file_extension": ".cpp",
      "mimetype": "text/x-c++src",
      "name": "c++",
      "version": "17"
    },
    "rise": {
      "autolaunch": true,
      "enable_chalkboard": true
    }
  },
  "nbformat": 4,
  "nbformat_minor": 5
}
